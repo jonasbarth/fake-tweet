{
 "cells": [
  {
   "cell_type": "code",
   "execution_count": 20,
   "metadata": {},
   "outputs": [],
   "source": [
    "import tweepy\n",
    "\n",
    "# Consumer keys and access tokens, used for OAuth\n",
    "consumer_key = 'Cs7D6PzbpMhDcwDyf7hfr6Lcv'\n",
    "consumer_secret = '7iLiz4iWL0n9sCnQcMCzVEidUu1SX2K47x4pinNSKmDC755Pjg'\n",
    "access_token = '1275419348375670785-pp83fKrqkjG4l0S5YmwAuDG6iufozd'\n",
    "access_token_secret = 'yS6jS145K1XBoh2kjRxbQ3nEtwimHcQIgQGmOadb0yqZh'\n",
    "\n",
    "# OAuth process, using the keys and tokens\n",
    "auth = tweepy.OAuthHandler(consumer_key, consumer_secret)\n",
    "auth.set_access_token(access_token, access_token_secret)\n",
    "\n",
    "# Creation of the actual interface, using authentication\n",
    "api = tweepy.API(auth)\n"
   ]
  },
  {
   "cell_type": "code",
   "execution_count": 76,
   "metadata": {},
   "outputs": [
    {
     "name": "stdout",
     "output_type": "stream",
     "text": [
      "If the Federal Government and its brilliant Law Enforcement (Homeland) didn’t go into Portland one week ago, there would be no Portland -- It would be burned and beaten to the ground. If the Mayor and Governor...\n",
      "Just landed in the Great State of Texas! https://t.co/Z9LjIU0Uec\n",
      "I was on Air Force One flying to the Great State of Texas, where I just landed. It is AMAZING in watching @FoxNews how different they are from four years ago. Not even watchable. They totally forgot who got them where they are!\n",
      "The drug companies are spending millions of dollars in advertising against me, only because I am lowering drug prices massively, 50% and more! Biden and Obama said they would do this for eight years, but never did...\n",
      "I am happy to inform all of the people living their Suburban Lifestyle Dream that you will no longer be bothered or financially hurt by having low income housing built in your neighborhood...\n",
      "If Congress doesn’t bring fairness to Big Tech, which they should have done years ago, I will do it myself with Executive Orders. In Washington, it has been ALL TALK and NO ACTION for years, and the people of our Country are sick and tired of it!\n",
      "Reno-Stead Airport has big bucks coming its way. I’m designating over $4.8 million from @USDOT to reconstruct the airport’s taxiway and ramp. This, along with 4 other airport grants to Nevada, will help in the economic recovery and GROWTH of the State!\n",
      "BIG bucks are on their way to @ILMairport. Over $21.1 MILLION designated to Wilmington International from @USDOT to expand their terminal and make other major upgrades and safety enhancements. This will help to create JOBS and growth in the region!\n",
      "I am designating $18.9 million from @USDOT to MANY airports in Ohio, including @goingplacescle, @CAKairport, and several others, for improvements, updates, and safety. Great for the economy and the people of Ohio!\n",
      "Great news for Florida! $3.3 million will be sent to @flyKissimmee from @USDOT for airport improvements and safety enhancements. This is so important for Central Florida and will bring a much-needed boost to the State’s economy!\n"
     ]
    }
   ],
   "source": [
    "for status in tweepy.Cursor(api.user_timeline, exclude_replies=True, screen_name='@realDonaldTrump', tweet_mode=\"extended\").items(10):\n",
    "    print(status.full_text)"
   ]
  },
  {
   "cell_type": "code",
   "execution_count": 78,
   "metadata": {},
   "outputs": [
    {
     "name": "stdout",
     "output_type": "stream",
     "text": [
      "...do not stop the Crime and Violence from the Anarchists and Agitators immediately, the Federal Government will go in and do the job that local law enforcement was supposed to do!\n",
      "\n",
      "\n",
      "If the Federal Government and its brilliant Law Enforcement (Homeland) didn’t go into Portland one week ago, there would be no Portland -- It would be burned and beaten to the ground. If the Mayor and Governor...\n",
      "\n",
      "\n",
      "Just landed in the Great State of Texas! https://t.co/Z9LjIU0Uec\n",
      "\n",
      "\n",
      "I was on Air Force One flying to the Great State of Texas, where I just landed. It is AMAZING in watching @FoxNews how different they are from four years ago. Not even watchable. They totally forgot who got them where they are!\n",
      "\n",
      "\n",
      "...With Biden, drug prices will quadruple! After many years, the game is finally up for Big Pharma, and they’re NOT HAPPY about it! Please understand that when you see their negative ads!\n",
      "\n",
      "\n",
      "The drug companies are spending millions of dollars in advertising against me, only because I am lowering drug prices massively, 50% and more! Biden and Obama said they would do this for eight years, but never did...\n",
      "\n",
      "\n",
      "...Your housing prices will go up based on the market, and crime will go down. I have rescinded the Obama-Biden AFFH Rule. Enjoy!\n",
      "\n",
      "\n",
      "I am happy to inform all of the people living their Suburban Lifestyle Dream that you will no longer be bothered or financially hurt by having low income housing built in your neighborhood...\n",
      "\n",
      "\n",
      "If Congress doesn’t bring fairness to Big Tech, which they should have done years ago, I will do it myself with Executive Orders. In Washington, it has been ALL TALK and NO ACTION for years, and the people of our Country are sick and tired of it!\n",
      "\n",
      "\n",
      "Reno-Stead Airport has big bucks coming its way. I’m designating over $4.8 million from @USDOT to reconstruct the airport’s taxiway and ramp. This, along with 4 other airport grants to Nevada, will help in the economic recovery and GROWTH of the State!\n",
      "\n",
      "\n"
     ]
    }
   ],
   "source": [
    "for status in tweepy.Cursor(api.user_timeline, screen_name='@realDonaldTrump', tweet_mode=\"extended\").items(10):\n",
    "    if 'RT @' not in status.full_text:\n",
    "        print(status.full_text)\n",
    "        print(\"\\n\")"
   ]
  },
  {
   "cell_type": "code",
   "execution_count": 72,
   "metadata": {},
   "outputs": [
    {
     "name": "stdout",
     "output_type": "stream",
     "text": [
      "If the Federal Government and its brilliant Law Enforcement (Homeland) didn’t go into Portland one week ago, there would be no Portland -- It would be burned and beaten to the ground. If the Mayor and Governor...\n",
      "\n",
      "\n",
      "Just landed in the Great State of Texas! https://t.co/Z9LjIU0Uec\n",
      "\n",
      "\n",
      "I was on Air Force One flying to the Great State of Texas, where I just landed. It is AMAZING in watching @FoxNews how different they are from four years ago. Not even watchable. They totally forgot who got them where they are!\n",
      "\n",
      "\n",
      "The drug companies are spending millions of dollars in advertising against me, only because I am lowering drug prices massively, 50% and more! Biden and Obama said they would do this for eight years, but never did...\n",
      "\n",
      "\n",
      "I am happy to inform all of the people living their Suburban Lifestyle Dream that you will no longer be bothered or financially hurt by having low income housing built in your neighborhood...\n",
      "\n",
      "\n",
      "If Congress doesn’t bring fairness to Big Tech, which they should have done years ago, I will do it myself with Executive Orders. In Washington, it has been ALL TALK and NO ACTION for years, and the people of our Country are sick and tired of it!\n",
      "\n",
      "\n",
      "Reno-Stead Airport has big bucks coming its way. I’m designating over $4.8 million from @USDOT to reconstruct the airport’s taxiway and ramp. This, along with 4 other airport grants to Nevada, will help in the economic recovery and GROWTH of the State!\n",
      "\n",
      "\n",
      "BIG bucks are on their way to @ILMairport. Over $21.1 MILLION designated to Wilmington International from @USDOT to expand their terminal and make other major upgrades and safety enhancements. This will help to create JOBS and growth in the region!\n",
      "\n",
      "\n",
      "I am designating $18.9 million from @USDOT to MANY airports in Ohio, including @goingplacescle, @CAKairport, and several others, for improvements, updates, and safety. Great for the economy and the people of Ohio!\n",
      "\n",
      "\n",
      "Great news for Florida! $3.3 million will be sent to @flyKissimmee from @USDOT for airport improvements and safety enhancements. This is so important for Central Florida and will bring a much-needed boost to the State’s economy!\n",
      "\n",
      "\n"
     ]
    }
   ],
   "source": [
    "for status in tweepy.Cursor(api.user_timeline, screen_name='@realDonaldTrump', tweet_mode=\"extended\").items(10):\n",
    "    if not status.retweeted or 'RT @' not in status.full_text:\n",
    "        print(status.full_text)\n",
    "        print(\"\\n\")\n",
    "        \n",
    "    else:\n",
    "        print(\"Retweet\")\n",
    "        print(status.full_text)"
   ]
  }
 ],
 "metadata": {
  "kernelspec": {
   "display_name": "Python 3",
   "language": "python",
   "name": "python3"
  },
  "language_info": {
   "codemirror_mode": {
    "name": "ipython",
    "version": 3
   },
   "file_extension": ".py",
   "mimetype": "text/x-python",
   "name": "python",
   "nbconvert_exporter": "python",
   "pygments_lexer": "ipython3",
   "version": "3.8.5"
  }
 },
 "nbformat": 4,
 "nbformat_minor": 4
}
