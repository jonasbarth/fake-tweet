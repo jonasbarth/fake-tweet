{
 "cells": [
  {
   "cell_type": "code",
   "execution_count": 1,
   "metadata": {},
   "outputs": [],
   "source": [
    "import pandas as pd\n",
    "import numpy as np\n",
    "\n"
   ]
  },
  {
   "cell_type": "code",
   "execution_count": 2,
   "metadata": {},
   "outputs": [
    {
     "data": {
      "text/html": [
       "<div>\n",
       "<style scoped>\n",
       "    .dataframe tbody tr th:only-of-type {\n",
       "        vertical-align: middle;\n",
       "    }\n",
       "\n",
       "    .dataframe tbody tr th {\n",
       "        vertical-align: top;\n",
       "    }\n",
       "\n",
       "    .dataframe thead th {\n",
       "        text-align: right;\n",
       "    }\n",
       "</style>\n",
       "<table border=\"1\" class=\"dataframe\">\n",
       "  <thead>\n",
       "    <tr style=\"text-align: right;\">\n",
       "      <th></th>\n",
       "      <th>source</th>\n",
       "      <th>text</th>\n",
       "      <th>created_at</th>\n",
       "      <th>retweet_count</th>\n",
       "      <th>favorite_count</th>\n",
       "      <th>is_retweet</th>\n",
       "      <th>id_str</th>\n",
       "    </tr>\n",
       "  </thead>\n",
       "  <tbody>\n",
       "    <tr>\n",
       "      <th>0</th>\n",
       "      <td>Twitter for iPhone</td>\n",
       "      <td>....be able to produce what I have. So when yo...</td>\n",
       "      <td>07-28-2020 13:48:34</td>\n",
       "      <td>23976</td>\n",
       "      <td>95926</td>\n",
       "      <td>False</td>\n",
       "      <td>1288109093694005253</td>\n",
       "    </tr>\n",
       "    <tr>\n",
       "      <th>1</th>\n",
       "      <td>Twitter for iPhone</td>\n",
       "      <td>Big Pharma is taking television ads trying to ...</td>\n",
       "      <td>07-28-2020 13:48:33</td>\n",
       "      <td>50738</td>\n",
       "      <td>177356</td>\n",
       "      <td>False</td>\n",
       "      <td>1288109090061705222</td>\n",
       "    </tr>\n",
       "    <tr>\n",
       "      <th>2</th>\n",
       "      <td>Twitter for iPhone</td>\n",
       "      <td>“Nadler calls ANTIFA violence a MYTH.” @foxand...</td>\n",
       "      <td>07-28-2020 12:53:44</td>\n",
       "      <td>34956</td>\n",
       "      <td>129342</td>\n",
       "      <td>False</td>\n",
       "      <td>1288095296363405314</td>\n",
       "    </tr>\n",
       "    <tr>\n",
       "      <th>3</th>\n",
       "      <td>Twitter for iPhone</td>\n",
       "      <td>The Fake News Media is trying to portray the P...</td>\n",
       "      <td>07-28-2020 02:58:41</td>\n",
       "      <td>38228</td>\n",
       "      <td>158013</td>\n",
       "      <td>False</td>\n",
       "      <td>1287945543642222599</td>\n",
       "    </tr>\n",
       "    <tr>\n",
       "      <th>4</th>\n",
       "      <td>Twitter for iPhone</td>\n",
       "      <td>....would destroy our American cities and wors...</td>\n",
       "      <td>07-28-2020 02:58:41</td>\n",
       "      <td>23313</td>\n",
       "      <td>103827</td>\n",
       "      <td>False</td>\n",
       "      <td>1287945545600966658</td>\n",
       "    </tr>\n",
       "  </tbody>\n",
       "</table>\n",
       "</div>"
      ],
      "text/plain": [
       "               source                                               text  \\\n",
       "0  Twitter for iPhone  ....be able to produce what I have. So when yo...   \n",
       "1  Twitter for iPhone  Big Pharma is taking television ads trying to ...   \n",
       "2  Twitter for iPhone  “Nadler calls ANTIFA violence a MYTH.” @foxand...   \n",
       "3  Twitter for iPhone  The Fake News Media is trying to portray the P...   \n",
       "4  Twitter for iPhone  ....would destroy our American cities and wors...   \n",
       "\n",
       "            created_at  retweet_count  favorite_count is_retweet  \\\n",
       "0  07-28-2020 13:48:34          23976           95926      False   \n",
       "1  07-28-2020 13:48:33          50738          177356      False   \n",
       "2  07-28-2020 12:53:44          34956          129342      False   \n",
       "3  07-28-2020 02:58:41          38228          158013      False   \n",
       "4  07-28-2020 02:58:41          23313          103827      False   \n",
       "\n",
       "                id_str  \n",
       "0  1288109093694005253  \n",
       "1  1288109090061705222  \n",
       "2  1288095296363405314  \n",
       "3  1287945543642222599  \n",
       "4  1287945545600966658  "
      ]
     },
     "execution_count": 2,
     "metadata": {},
     "output_type": "execute_result"
    }
   ],
   "source": [
    "trump = pd.read_csv(\"trump_tweets.csv\")\n",
    "trump.shape\n",
    "trump.head()"
   ]
  },
  {
   "cell_type": "code",
   "execution_count": 3,
   "metadata": {},
   "outputs": [
    {
     "data": {
      "text/plain": [
       "(20706, 1)"
      ]
     },
     "execution_count": 3,
     "metadata": {},
     "output_type": "execute_result"
    }
   ],
   "source": [
    "np_trump = trump[[\"text\"]].to_numpy()\n",
    "np_trump.shape"
   ]
  },
  {
   "cell_type": "code",
   "execution_count": 9,
   "metadata": {},
   "outputs": [
    {
     "data": {
      "text/html": [
       "<div>\n",
       "<style scoped>\n",
       "    .dataframe tbody tr th:only-of-type {\n",
       "        vertical-align: middle;\n",
       "    }\n",
       "\n",
       "    .dataframe tbody tr th {\n",
       "        vertical-align: top;\n",
       "    }\n",
       "\n",
       "    .dataframe thead th {\n",
       "        text-align: right;\n",
       "    }\n",
       "</style>\n",
       "<table border=\"1\" class=\"dataframe\">\n",
       "  <thead>\n",
       "    <tr style=\"text-align: right;\">\n",
       "      <th></th>\n",
       "      <th>text</th>\n",
       "    </tr>\n",
       "  </thead>\n",
       "  <tbody>\n",
       "    <tr>\n",
       "      <th>0</th>\n",
       "      <td>....be able to produce what I have. So when yo...</td>\n",
       "    </tr>\n",
       "    <tr>\n",
       "      <th>1</th>\n",
       "      <td>Big Pharma is taking television ads trying to ...</td>\n",
       "    </tr>\n",
       "    <tr>\n",
       "      <th>2</th>\n",
       "      <td>“Nadler calls ANTIFA violence a MYTH.” @foxand...</td>\n",
       "    </tr>\n",
       "    <tr>\n",
       "      <th>3</th>\n",
       "      <td>The Fake News Media is trying to portray the P...</td>\n",
       "    </tr>\n",
       "    <tr>\n",
       "      <th>4</th>\n",
       "      <td>....would destroy our American cities and wors...</td>\n",
       "    </tr>\n",
       "  </tbody>\n",
       "</table>\n",
       "</div>"
      ],
      "text/plain": [
       "                                                text\n",
       "0  ....be able to produce what I have. So when yo...\n",
       "1  Big Pharma is taking television ads trying to ...\n",
       "2  “Nadler calls ANTIFA violence a MYTH.” @foxand...\n",
       "3  The Fake News Media is trying to portray the P...\n",
       "4  ....would destroy our American cities and wors..."
      ]
     },
     "execution_count": 9,
     "metadata": {},
     "output_type": "execute_result"
    }
   ],
   "source": [
    "trump_filtered = pd.DataFrame(data=np_trump, columns=[\"text\"])\n",
    "trump_filtered.head()"
   ]
  },
  {
   "cell_type": "code",
   "execution_count": 11,
   "metadata": {},
   "outputs": [],
   "source": [
    "trump_filtered.to_csv(\"trump_tweets_processed.csv\")"
   ]
  }
 ],
 "metadata": {
  "kernelspec": {
   "display_name": "Python 3",
   "language": "python",
   "name": "python3"
  },
  "language_info": {
   "codemirror_mode": {
    "name": "ipython",
    "version": 3
   },
   "file_extension": ".py",
   "mimetype": "text/x-python",
   "name": "python",
   "nbconvert_exporter": "python",
   "pygments_lexer": "ipython3",
   "version": "3.8.5"
  }
 },
 "nbformat": 4,
 "nbformat_minor": 4
}
